{
 "cells": [
  {
   "cell_type": "code",
   "execution_count": 6,
   "metadata": {},
   "outputs": [
    {
     "name": "stdout",
     "output_type": "stream",
     "text": [
      "Model updated and saved successfully!\n"
     ]
    }
   ],
   "source": [
    "import pandas as pd\n",
    "import numpy as np\n",
    "from sklearn.model_selection import train_test_split\n",
    "from sklearn.preprocessing import LabelEncoder\n",
    "from sklearn.ensemble import RandomForestClassifier\n",
    "from sklearn.pipeline import Pipeline\n",
    "from sklearn.multioutput import MultiOutputClassifier\n",
    "import joblib\n",
    "\n",
    "# Load dataset\n",
    "file_path = \"gym recommendation.xlsx\"\n",
    "df = pd.read_excel(file_path, sheet_name='Sheet1')\n",
    "\n",
    "# Drop unnecessary columns\n",
    "df = df.drop(columns=['ID', 'Fitness Type'])\n",
    "\n",
    "# Ensure 'Fitness Goal' has only 'Weight Loss' and 'Weight Gain'\n",
    "df = df[df['Fitness Goal'].isin(['Weight Loss', 'Weight Gain'])]\n",
    "\n",
    "# Encoding categorical variables\n",
    "label_encoders = {}\n",
    "categorical_columns = ['Sex', 'Hypertension', 'Diabetes', 'Level', 'Fitness Goal', 'Exercises', 'Equipment', 'Diet', 'Recommendation']\n",
    "for col in categorical_columns:\n",
    "    le = LabelEncoder()\n",
    "    df[col] = le.fit_transform(df[col].astype(str))\n",
    "    label_encoders[col] = le\n",
    "\n",
    "# Splitting data into input (X) and output (y)\n",
    "X = df[['Sex', 'Age', 'Height', 'Weight', 'Hypertension', 'Diabetes', 'BMI', 'Fitness Goal']]\n",
    "y = df[['Level', 'Exercises', 'Equipment', 'Diet', 'Recommendation']]\n",
    "\n",
    "# Train-test split\n",
    "X_train, X_test, y_train, y_test = train_test_split(X, y, test_size=0.3, random_state=42)\n",
    "\n",
    "# Model pipeline\n",
    "pipeline = Pipeline([\n",
    "    ('classifier', MultiOutputClassifier(RandomForestClassifier(n_estimators=100, random_state=42)))\n",
    "])\n",
    "\n",
    "# Train model\n",
    "pipeline.fit(X_train, y_train)\n",
    "\n",
    "# Save the model and encoders\n",
    "joblib.dump(pipeline, \"nlp_fitness_model2.pkl\")\n",
    "joblib.dump(label_encoders, \"label_encoders2.pkl\")\n",
    "\n",
    "print(\"Model updated and saved successfully!\")\n"
   ]
  }
 ],
 "metadata": {
  "kernelspec": {
   "display_name": ".venv",
   "language": "python",
   "name": "python3"
  },
  "language_info": {
   "codemirror_mode": {
    "name": "ipython",
    "version": 3
   },
   "file_extension": ".py",
   "mimetype": "text/x-python",
   "name": "python",
   "nbconvert_exporter": "python",
   "pygments_lexer": "ipython3",
   "version": "3.11.9"
  }
 },
 "nbformat": 4,
 "nbformat_minor": 2
}
